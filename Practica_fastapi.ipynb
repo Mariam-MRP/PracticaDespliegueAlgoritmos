{
 "cells": [
  {
   "cell_type": "code",
   "execution_count": 14,
   "metadata": {},
   "outputs": [
    {
     "name": "stdout",
     "output_type": "stream",
     "text": [
      "Overwriting practica_fastapi.py\n"
     ]
    }
   ],
   "source": [
    "%%writefile practica_fastapi.py\n",
    "\n",
    "from fastapi import FastAPI\n",
    "from transformers import pipeline\n",
    "from pydantic import BaseModel\n",
    "import pandas as pd\n",
    "\n",
    "\n",
    "app = FastAPI()\n",
    "\n",
    "class User(BaseModel):\n",
    "    height: float\n",
    "    weight: float\n",
    "\n",
    "# Módulo 1: Calcular IMC\n",
    "@app.post(\"/calcular-imc\")\n",
    "def calcular_imc(user: User):\n",
    "    if user.height is not None and user.weight is not None:\n",
    "        imc = user.weight / (user.height ** 2)\n",
    "        return {\"mensaje\": f\"Tu índice de masa corporal (IMC) es: {imc:.2f}\"}\n",
    "    return {\"mensaje\": \"Por favor, proporciona tu altura y peso.\"}\n",
    "\n",
    "# Módulo 2: Generación de texto usando Hugging Face\n",
    "@app.post(\"/generate-text\")\n",
    "def generate_text(prompt: str):\n",
    "    generator = pipeline(\"text-generation\", model=\"gpt2\")\n",
    "    generated = generator(prompt, max_length=50, num_return_sequences=1)\n",
    "    return {\"texto_generado\": generated[0][\"generated_text\"]}\n",
    "\n",
    "# Módulo 3: Clasificación de texto usando Hugging Face\n",
    "@app.get(\"/text-classification\")\n",
    "def text_classification(prompt: str):\n",
    "    classifier = pipeline(\"zero-shot-classification\")\n",
    "    labels = [\"sports\", \"politics\", \"technology\", \"health\"]\n",
    "    result = classifier(prompt, candidate_labels=labels)\n",
    "    return {\"clasificación\": result[\"labels\"][0], \"confianza\": result[\"scores\"][0]}\n",
    "\n",
    "# Módulo 4: Número par:\n",
    "@app.get(\"/par-impar\")\n",
    "def par_impar(number: int):\n",
    "    tipo = \"par\" if number % 2 == 0 else \"impar\"\n",
    "    return {\"Número\": number, \"Tipo\": tipo}\n",
    "    \n",
    "\n",
    "# Módulo 5 Multiplicación de números:\n",
    "@app.get(\"/multiplicacion\")\n",
    "def multiplicacion(number1: int, number2: int):\n",
    "    resultado = number1 * number2\n",
    "    return {\"Resultado\": resultado}\n"
   ]
  }
 ],
 "metadata": {
  "kernelspec": {
   "display_name": "bd14-despliegue-algo",
   "language": "python",
   "name": "python3"
  },
  "language_info": {
   "codemirror_mode": {
    "name": "ipython",
    "version": 3
   },
   "file_extension": ".py",
   "mimetype": "text/x-python",
   "name": "python",
   "nbconvert_exporter": "python",
   "pygments_lexer": "ipython3",
   "version": "3.11.0"
  }
 },
 "nbformat": 4,
 "nbformat_minor": 2
}
